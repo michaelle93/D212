{
 "cells": [
  {
   "cell_type": "markdown",
   "metadata": {},
   "source": [
    "A1."
   ]
  },
  {
   "cell_type": "markdown",
   "metadata": {},
   "source": [
    "Can we identify which customer is at risk of churning based on similarities?\n",
    "\n",
    "I will be using k-means to answer our question."
   ]
  },
  {
   "cell_type": "markdown",
   "metadata": {},
   "source": [
    "A2."
   ]
  },
  {
   "cell_type": "markdown",
   "metadata": {},
   "source": [
    "The goal of this analysis is to help the company use the information they have to better understand their customer and determine which customers are at risk of churning."
   ]
  },
  {
   "cell_type": "markdown",
   "metadata": {},
   "source": [
    "B1."
   ]
  },
  {
   "cell_type": "markdown",
   "metadata": {},
   "source": [
    "k-means clustering will group data points that are similar together and this will help discover patterns. For the dataset being used, the expected outcome is to identify similar features about customers and identify a certain pattern between churned and non-churned customers. "
   ]
  },
  {
   "cell_type": "markdown",
   "metadata": {},
   "source": [
    "B2."
   ]
  },
  {
   "cell_type": "markdown",
   "metadata": {},
   "source": [
    "'The assumption is that k-means is an optimization algorithm and the minimize the sum of squred errors', (Robinson, 2015). K-means can unintuitively produce unexpected clusters."
   ]
  },
  {
   "cell_type": "markdown",
   "metadata": {},
   "source": [
    "B3."
   ]
  },
  {
   "cell_type": "markdown",
   "metadata": {},
   "source": [
    "The packages used for this analysis will be for the Python language: \n",
    "   numpy, for operating with arrays \n",
    "   pandas, for statistical data analysis and manipulation \n",
    "   seaborn, for data visualization \n",
    "   matplotlib, for plotting data visualization \n",
    "   sklearn, for running methods and models"
   ]
  },
  {
   "cell_type": "markdown",
   "metadata": {},
   "source": [
    "C1."
   ]
  },
  {
   "cell_type": "markdown",
   "metadata": {},
   "source": [
    "a preprocessing goal is to perform scalar or normalization on the dataset, this will help when the dataset has a high variance. Scaler will help features to be more equal in variance"
   ]
  },
  {
   "cell_type": "markdown",
   "metadata": {},
   "source": [
    "C2."
   ]
  },
  {
   "cell_type": "markdown",
   "metadata": {},
   "source": [
    "The initial dataset will include both continuous and categorical variables and is as followed: \n",
    "'Tenure' - continuous variable \n",
    "'MonthlyCharge' - continuous variable \n",
    "'Bandwidth_GB_Year' - continuous variable \n",
    "'Income' - continuous variable \n",
    "'Yearly_equip_failure - continuous variable \n",
    "'Outage_sec_perweek' - continuous variable \n",
    "'Email' - continuous variable \n",
    "'Contacts' - continuous variable \n",
    "'Children' - continuous variable\n",
    "\n",
    "'Area' - categorical variable \n",
    "'Marital' - categorical variable \n",
    "'Gender' - categorical variable \n",
    "'Churn' - categorical variable \n",
    "'Techie' - categorical variable \n",
    "'Contract' - categorical variable \n",
    "'Port_modem' - categorical variable \n",
    "'Tablet' - categorical variable \n",
    "'InternetService - categorical variable \n",
    "'Phone' - categorical variable \n",
    "'Multiple' - categorical variable \n",
    "'OnlineSecurity' - categorical variable \n",
    "'OnlineBackup' - categorical variable \n",
    "'DeviceProtection' - categorical variable \n",
    "'TechSupport' - categorical variable \n",
    "'StreamingTV' - categorical variable \n",
    "'StreamingMovies' - categorical variable \n",
    "'PaperlessBilling' - categorical variable \n",
    "'PaymentMethod' - categorical variable \n",
    "'TimelyResponse' - ordinal categorical \n",
    "'Fixes' - ordinal categorical \n",
    "'Replacements' - ordinal categorical \n",
    "'Reliability' - ordinal categorical \n",
    "'Options' - ordinal categorical \n",
    "'Respecfulness' - ordinal categorical \n",
    "'Courteous' - ordinal categorical \n",
    "'Listening' - ordinal categorical"
   ]
  },
  {
   "cell_type": "markdown",
   "metadata": {},
   "source": [
    "C3."
   ]
  },
  {
   "cell_type": "markdown",
   "metadata": {},
   "source": [
    "-import dataset into dataframe \n",
    "-check variables for any corrections needed such as improper naming and title check data type \n",
    "-drop less meaningful variables \n",
    "-check missing data \n",
    "-run summary statistics \n",
    "-look over univariate and bivariate visualizaitons for outliers and discrepancies \n",
    "-move target variable to the end of dataframe \n",
    "-set prepared dataset into a new dataframe for running regression"
   ]
  },
  {
   "cell_type": "markdown",
   "metadata": {},
   "source": [
    "C4."
   ]
  },
  {
   "cell_type": "markdown",
   "metadata": {},
   "source": []
  },
  {
   "cell_type": "markdown",
   "metadata": {},
   "source": [
    "D1."
   ]
  },
  {
   "cell_type": "markdown",
   "metadata": {},
   "source": []
  },
  {
   "cell_type": "markdown",
   "metadata": {},
   "source": [
    "D2."
   ]
  },
  {
   "cell_type": "markdown",
   "metadata": {},
   "source": [
    "E1."
   ]
  },
  {
   "cell_type": "markdown",
   "metadata": {},
   "source": [
    "E2."
   ]
  },
  {
   "cell_type": "markdown",
   "metadata": {},
   "source": [
    "E3."
   ]
  },
  {
   "cell_type": "markdown",
   "metadata": {},
   "source": [
    "E4."
   ]
  },
  {
   "cell_type": "markdown",
   "metadata": {},
   "source": [
    "F."
   ]
  },
  {
   "cell_type": "markdown",
   "metadata": {},
   "source": [
    "G."
   ]
  },
  {
   "cell_type": "markdown",
   "metadata": {},
   "source": [
    "H."
   ]
  },
  {
   "cell_type": "markdown",
   "metadata": {},
   "source": [
    "Robinson, D. (2015, January 16). K-means clustering is not a free lunch. Variance Explained. Retrieved January 11, 2022, from http://varianceexplained.org/r/kmeans-free-lunch/ "
   ]
  }
 ],
 "metadata": {
  "kernelspec": {
   "display_name": "Python 3",
   "language": "python",
   "name": "python3"
  },
  "language_info": {
   "codemirror_mode": {
    "name": "ipython",
    "version": 3
   },
   "file_extension": ".py",
   "mimetype": "text/x-python",
   "name": "python",
   "nbconvert_exporter": "python",
   "pygments_lexer": "ipython3",
   "version": "3.8.5"
  }
 },
 "nbformat": 4,
 "nbformat_minor": 4
}
