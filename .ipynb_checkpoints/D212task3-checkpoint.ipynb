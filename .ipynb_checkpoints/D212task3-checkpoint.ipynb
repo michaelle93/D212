{
 "cells": [
  {
   "cell_type": "markdown",
   "metadata": {},
   "source": [
    "A1"
   ]
  },
  {
   "cell_type": "markdown",
   "metadata": {},
   "source": [
    "Can we determine a pattern from market basket analysis where a certain item will likely cause a customer purchase the next item?"
   ]
  },
  {
   "cell_type": "markdown",
   "metadata": {},
   "source": [
    "A2"
   ]
  },
  {
   "cell_type": "markdown",
   "metadata": {},
   "source": [
    "One goal of this analysis is to provide the company with the appropriate information to understand their customers in order to sell the right products to their customers "
   ]
  },
  {
   "cell_type": "markdown",
   "metadata": {},
   "source": [
    "B1"
   ]
  },
  {
   "cell_type": "markdown",
   "metadata": {},
   "source": [
    "Market basket analysis works by finding patterns in transactions that occurr frequently. It is typically stated as 'IF {item1} THEN {item2}. The IF statement is called antecedent and the THEN statement is called the consequent. It is then stated as a probability between that occurance and all the possible transactions.\n",
    "\n",
    "The expected outcome will be discovering a pattern of items that customers purchase and using that information to market the conseuqent item when the antecedent item is triggered."
   ]
  },
  {
   "cell_type": "markdown",
   "metadata": {},
   "source": [
    "B2"
   ]
  },
  {
   "cell_type": "markdown",
   "metadata": {},
   "source": [
    "Upon observing the first row of the teleco_market_basket dataset, which we can refer as the transaction of items purchased by a customer:\n",
    "\n",
    "Logitech M510 Wireless mouse\tHP 63 Ink\tHP 65 ink\tnonda USB C to USB Adapter\t10ft iPHone Charger Cable\tHP 902XL ink\tCreative Pebble 2.0 Speakers\tCleaning Gel Universal Dust Cleaner\tMicro Center 32GB Memory card\tYUNSONG 3pack 6ft Nylon Lightning Cable\tTopMate C5 Laptop Cooler pad\tApple USB-C Charger cable\tHyperX Cloud Stinger Headset\tTONOR USB Gaming Microphone\tDust-Off Compressed Gas 2 pack\t3A USB Type C Cable 3 pack 6FT\tHOVAMP iPhone charger\tSanDisk Ultra 128GB card\tFEEL2NICE 5 pack 10ft Lighning cable\tFEIYOLD Blue light Blocking Glasses\n",
    "\n",
    "The transaction above is a list of 20 items."
   ]
  },
  {
   "cell_type": "markdown",
   "metadata": {},
   "source": [
    "B3"
   ]
  },
  {
   "cell_type": "code",
   "execution_count": null,
   "metadata": {},
   "outputs": [],
   "source": []
  },
  {
   "cell_type": "markdown",
   "metadata": {},
   "source": [
    "C1"
   ]
  },
  {
   "cell_type": "markdown",
   "metadata": {},
   "source": [
    "C2"
   ]
  },
  {
   "cell_type": "markdown",
   "metadata": {},
   "source": [
    "C3"
   ]
  },
  {
   "cell_type": "markdown",
   "metadata": {},
   "source": [
    "C4"
   ]
  },
  {
   "cell_type": "markdown",
   "metadata": {},
   "source": [
    "D1"
   ]
  },
  {
   "cell_type": "markdown",
   "metadata": {},
   "source": [
    "D2"
   ]
  },
  {
   "cell_type": "markdown",
   "metadata": {},
   "source": [
    "D3"
   ]
  },
  {
   "cell_type": "markdown",
   "metadata": {},
   "source": [
    "E"
   ]
  },
  {
   "cell_type": "markdown",
   "metadata": {},
   "source": [
    "F"
   ]
  },
  {
   "cell_type": "markdown",
   "metadata": {},
   "source": [
    "G"
   ]
  },
  {
   "cell_type": "markdown",
   "metadata": {},
   "source": [
    "H"
   ]
  }
 ],
 "metadata": {
  "kernelspec": {
   "display_name": "Python 3",
   "language": "python",
   "name": "python3"
  },
  "language_info": {
   "codemirror_mode": {
    "name": "ipython",
    "version": 3
   },
   "file_extension": ".py",
   "mimetype": "text/x-python",
   "name": "python",
   "nbconvert_exporter": "python",
   "pygments_lexer": "ipython3",
   "version": "3.8.5"
  }
 },
 "nbformat": 4,
 "nbformat_minor": 4
}
