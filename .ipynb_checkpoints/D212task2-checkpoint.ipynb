{
 "cells": [
  {
   "cell_type": "markdown",
   "metadata": {},
   "source": [
    "A1."
   ]
  },
  {
   "cell_type": "markdown",
   "metadata": {},
   "source": [
    "What variables in the dataset show the strongest relationship to customers churning?"
   ]
  },
  {
   "cell_type": "markdown",
   "metadata": {},
   "source": [
    "A2."
   ]
  },
  {
   "cell_type": "markdown",
   "metadata": {},
   "source": [
    "The goal is to reduce the dataset to where the data is still valuable showing strong relationship to customer churn while also reducing overfitting the model."
   ]
  },
  {
   "cell_type": "markdown",
   "metadata": {},
   "source": [
    "B1."
   ]
  },
  {
   "cell_type": "markdown",
   "metadata": {},
   "source": [
    "The PCA analyzes the data in two ways, feature elimination or feature extraction. The expected outcome will be reducing the amount of variables while being able to predict customer churn accurately (Brems, 2019)."
   ]
  },
  {
   "cell_type": "markdown",
   "metadata": {},
   "source": [
    "B2."
   ]
  },
  {
   "cell_type": "markdown",
   "metadata": {},
   "source": [
    "An assumption of PCA the variables used are continuous variables, ordinal variables are often used as well (Laerd Statistics).  "
   ]
  },
  {
   "cell_type": "markdown",
   "metadata": {},
   "source": [
    "C1."
   ]
  },
  {
   "cell_type": "markdown",
   "metadata": {},
   "source": [
    "C2."
   ]
  },
  {
   "cell_type": "markdown",
   "metadata": {},
   "source": [
    "D1."
   ]
  },
  {
   "cell_type": "markdown",
   "metadata": {},
   "source": [
    "D2."
   ]
  },
  {
   "cell_type": "markdown",
   "metadata": {},
   "source": [
    "D3."
   ]
  },
  {
   "cell_type": "markdown",
   "metadata": {},
   "source": [
    "D4."
   ]
  },
  {
   "cell_type": "markdown",
   "metadata": {},
   "source": [
    "D5."
   ]
  },
  {
   "cell_type": "markdown",
   "metadata": {},
   "source": [
    "E"
   ]
  },
  {
   "cell_type": "markdown",
   "metadata": {},
   "source": [
    "F"
   ]
  },
  {
   "cell_type": "markdown",
   "metadata": {},
   "source": [
    "Brems, M. (2019, June 10). A one-stop shop for principal component analysis. Medium. Retrieved January 20, 2022, from https://towardsdatascience.com/a-one-stop-shop-for-principal-component-analysis-5582fb7e0a9c \n",
    "\n",
    "Statistics, L. (n.d.). Principal components analysis (PCA) using SPSS statistics. How to perform a principal components analysis (PCA) in SPSS Statistics | Laerd Statistics. Retrieved January 20, 2022, from https://statistics.laerd.com/spss-tutorials/principal-components-analysis-pca-using-spss-statistics.php \n"
   ]
  },
  {
   "cell_type": "markdown",
   "metadata": {},
   "source": [
    "G"
   ]
  }
 ],
 "metadata": {
  "kernelspec": {
   "display_name": "Python 3",
   "language": "python",
   "name": "python3"
  },
  "language_info": {
   "codemirror_mode": {
    "name": "ipython",
    "version": 3
   },
   "file_extension": ".py",
   "mimetype": "text/x-python",
   "name": "python",
   "nbconvert_exporter": "python",
   "pygments_lexer": "ipython3",
   "version": "3.8.5"
  }
 },
 "nbformat": 4,
 "nbformat_minor": 4
}
