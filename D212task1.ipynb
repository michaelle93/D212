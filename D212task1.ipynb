{
 "cells": [
  {
   "cell_type": "markdown",
   "metadata": {},
   "source": [
    "A1."
   ]
  },
  {
   "cell_type": "markdown",
   "metadata": {},
   "source": [
    "Can we "
   ]
  },
  {
   "cell_type": "markdown",
   "metadata": {},
   "source": [
    "A2."
   ]
  },
  {
   "cell_type": "markdown",
   "metadata": {},
   "source": [
    "B1."
   ]
  },
  {
   "cell_type": "markdown",
   "metadata": {},
   "source": [
    "B2."
   ]
  },
  {
   "cell_type": "markdown",
   "metadata": {},
   "source": [
    "B3."
   ]
  },
  {
   "cell_type": "markdown",
   "metadata": {},
   "source": [
    "C1."
   ]
  },
  {
   "cell_type": "markdown",
   "metadata": {},
   "source": [
    "C2."
   ]
  },
  {
   "cell_type": "markdown",
   "metadata": {},
   "source": [
    "C3."
   ]
  },
  {
   "cell_type": "markdown",
   "metadata": {},
   "source": [
    "C4."
   ]
  },
  {
   "cell_type": "markdown",
   "metadata": {},
   "source": [
    "D1."
   ]
  },
  {
   "cell_type": "markdown",
   "metadata": {},
   "source": [
    "D2."
   ]
  },
  {
   "cell_type": "markdown",
   "metadata": {},
   "source": [
    "E1."
   ]
  },
  {
   "cell_type": "markdown",
   "metadata": {},
   "source": [
    "E2."
   ]
  },
  {
   "cell_type": "markdown",
   "metadata": {},
   "source": [
    "E3."
   ]
  },
  {
   "cell_type": "markdown",
   "metadata": {},
   "source": [
    "E4."
   ]
  },
  {
   "cell_type": "markdown",
   "metadata": {},
   "source": [
    "F."
   ]
  },
  {
   "cell_type": "markdown",
   "metadata": {},
   "source": [
    "G."
   ]
  },
  {
   "cell_type": "markdown",
   "metadata": {},
   "source": [
    "H."
   ]
  }
 ],
 "metadata": {
  "kernelspec": {
   "display_name": "Python 3",
   "language": "python",
   "name": "python3"
  },
  "language_info": {
   "codemirror_mode": {
    "name": "ipython",
    "version": 3
   },
   "file_extension": ".py",
   "mimetype": "text/x-python",
   "name": "python",
   "nbconvert_exporter": "python",
   "pygments_lexer": "ipython3",
   "version": "3.8.5"
  }
 },
 "nbformat": 4,
 "nbformat_minor": 4
}
