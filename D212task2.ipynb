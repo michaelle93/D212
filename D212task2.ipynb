{
 "cells": [
  {
   "cell_type": "markdown",
   "metadata": {},
   "source": [
    "A1."
   ]
  },
  {
   "cell_type": "markdown",
   "metadata": {},
   "source": [
    "A2."
   ]
  },
  {
   "cell_type": "markdown",
   "metadata": {},
   "source": [
    "B1."
   ]
  },
  {
   "cell_type": "markdown",
   "metadata": {},
   "source": [
    "B2."
   ]
  },
  {
   "cell_type": "markdown",
   "metadata": {},
   "source": [
    "C1."
   ]
  },
  {
   "cell_type": "markdown",
   "metadata": {},
   "source": [
    "C2."
   ]
  },
  {
   "cell_type": "markdown",
   "metadata": {},
   "source": [
    "D1."
   ]
  },
  {
   "cell_type": "markdown",
   "metadata": {},
   "source": [
    "D2."
   ]
  },
  {
   "cell_type": "markdown",
   "metadata": {},
   "source": [
    "D3."
   ]
  },
  {
   "cell_type": "markdown",
   "metadata": {},
   "source": [
    "D4."
   ]
  },
  {
   "cell_type": "markdown",
   "metadata": {},
   "source": [
    "D5."
   ]
  },
  {
   "cell_type": "markdown",
   "metadata": {},
   "source": [
    "E"
   ]
  },
  {
   "cell_type": "markdown",
   "metadata": {},
   "source": [
    "F"
   ]
  },
  {
   "cell_type": "markdown",
   "metadata": {},
   "source": [
    "G"
   ]
  }
 ],
 "metadata": {
  "kernelspec": {
   "display_name": "Python 3",
   "language": "python",
   "name": "python3"
  },
  "language_info": {
   "codemirror_mode": {
    "name": "ipython",
    "version": 3
   },
   "file_extension": ".py",
   "mimetype": "text/x-python",
   "name": "python",
   "nbconvert_exporter": "python",
   "pygments_lexer": "ipython3",
   "version": "3.8.5"
  }
 },
 "nbformat": 4,
 "nbformat_minor": 4
}
